{
 "cells": [
  {
   "cell_type": "markdown",
   "id": "95f92cd9",
   "metadata": {},
   "source": [
    "# Data Science Tools and Ecosystem\n"
   ]
  },
  {
   "cell_type": "markdown",
   "id": "389dc2a0",
   "metadata": {},
   "source": [
    "### In this notebook, Data Science Tools and Ecosystem are summarized."
   ]
  },
  {
   "cell_type": "markdown",
   "id": "507ccdf5",
   "metadata": {},
   "source": [
    "#### Here is the list of some of the popular languages that Data Scientists use:\n",
    "\n",
    "1. Python \n",
    "2. R\n",
    "3. Julia\n",
    "4. C/C++\n",
    "5. Scala\n",
    "6. SQL\n",
    "7. JavaScript"
   ]
  },
  {
   "cell_type": "markdown",
   "id": "ac10d9f5",
   "metadata": {},
   "source": [
    "#### Here is the list of some of the popular Libraries that Data Scientists use:\n",
    "\n",
    "1. PANDAS \n",
    "2. Numpy\n",
    "3. MatplotLib\n",
    "4. Seaborn\n",
    "5. Scikit-learn\n",
    "6. Scipy\n",
    "7. Keras\n",
    "8. TensorFlow\n",
    "10. PyTorch\n",
    "11. GG2\n",
    "12. Vegas\n",
    "\n",
    "\n"
   ]
  },
  {
   "cell_type": "markdown",
   "id": "30730aed",
   "metadata": {},
   "source": [
    "#### Development Environment open source Datascience Tools:\n",
    "\n",
    "| Data Science Tools |\n",
    "|--------------------|\n",
    "|1. R Studio         |\n",
    "|2 Apache Spark     |\n",
    "|3 TensorFlow       |\n",
    "\n",
    "\n"
   ]
  },
  {
   "cell_type": "markdown",
   "id": "c267a26d",
   "metadata": {},
   "source": [
    "### Below are a few examples of evaluating arithmetic expressions in Python.\n"
   ]
  },
  {
   "cell_type": "code",
   "execution_count": 1,
   "id": "1c0522ef",
   "metadata": {},
   "outputs": [
    {
     "data": {
      "text/plain": [
       "17"
      ]
     },
     "execution_count": 1,
     "metadata": {},
     "output_type": "execute_result"
    }
   ],
   "source": [
    "#This a simple arithmetic expression to mutiply then add integers\n",
    "(3*4)+5"
   ]
  },
  {
   "cell_type": "code",
   "execution_count": 2,
   "id": "7e4f7da2",
   "metadata": {},
   "outputs": [
    {
     "data": {
      "text/plain": [
       "3.3333333333333335"
      ]
     },
     "execution_count": 2,
     "metadata": {},
     "output_type": "execute_result"
    }
   ],
   "source": [
    "#This will convert 200 minutes to hours by diving by 60\n",
    "200/60"
   ]
  },
  {
   "cell_type": "markdown",
   "id": "4a40720e",
   "metadata": {},
   "source": [
    "**Objectives of this Exercise:**\n",
    "\n",
    "- Working with Jupyter Notebook\n",
    "- Adding Markdown Cells\n",
    "- Working with Markdown Commands i.e Headings, Lists, Columns\n",
    "- Arithematic Operation in Python\n",
    "- Sharing this Notebook to GitHub\n",
    "\n"
   ]
  },
  {
   "cell_type": "markdown",
   "id": "499903e3",
   "metadata": {},
   "source": [
    "## Author Details\n",
    "\n",
    "Name: Muhammmad Manazir Akbar\n"
   ]
  }
 ],
 "metadata": {
  "kernelspec": {
   "display_name": "Python 3 (ipykernel)",
   "language": "python",
   "name": "python3"
  },
  "language_info": {
   "codemirror_mode": {
    "name": "ipython",
    "version": 3
   },
   "file_extension": ".py",
   "mimetype": "text/x-python",
   "name": "python",
   "nbconvert_exporter": "python",
   "pygments_lexer": "ipython3",
   "version": "3.10.9"
  }
 },
 "nbformat": 4,
 "nbformat_minor": 5
}
